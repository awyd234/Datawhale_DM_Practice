{
 "cells": [
  {
   "cell_type": "markdown",
   "metadata": {},
   "source": [
    "# Task2 同名消歧\n",
    "\n",
    "最新成绩，baseline1直接获得\n",
    "- score 0.24865\n",
    "- nickname awyd234\n",
    "- rank 48"
   ]
  },
  {
   "cell_type": "code",
   "execution_count": 90,
   "metadata": {},
   "outputs": [],
   "source": [
    "import os\n",
    "import json"
   ]
  },
  {
   "cell_type": "markdown",
   "metadata": {},
   "source": [
    "## 数据集读取"
   ]
  },
  {
   "cell_type": "code",
   "execution_count": 91,
   "metadata": {},
   "outputs": [],
   "source": [
    "train_author_file_path = './files/name_disambiguation/train_author.json'\n",
    "train_pub_file_path = './files/name_disambiguation/train_pub.json'\n",
    "\n",
    "with open(train_author_file_path) as f:\n",
    "    train_author_dict = json.load(f)\n",
    "    \n",
    "with open(train_pub_file_path) as f:\n",
    "    train_pub_dict = json.load(f)"
   ]
  },
  {
   "cell_type": "code",
   "execution_count": 92,
   "metadata": {},
   "outputs": [
    {
     "data": {
      "text/plain": [
       "['P9a1gcvg']"
      ]
     },
     "execution_count": 92,
     "metadata": {},
     "output_type": "execute_result"
    }
   ],
   "source": [
    "train_author_dict['li_guo']['EShnTfSe']"
   ]
  },
  {
   "cell_type": "code",
   "execution_count": 93,
   "metadata": {},
   "outputs": [
    {
     "data": {
      "text/plain": [
       "{'authors': [{'name': 'Fenghe Qiu',\n",
       "   'org': 'Institute of Pharmacology and Toxicology'},\n",
       "  {'name': 'Li Liu', 'org': 'Institute of Pharmacology and Toxicology'},\n",
       "  {'name': 'Li Guo', 'org': 'Institute of Pharmacology and Toxicology'}],\n",
       " 'title': 'Rapid determination of central nervous drugs in plasma by solid-phase extraction and GC-FID and GC-MS',\n",
       " 'abstract': 'Objective: To establish a simultaneous determination method of central nervous drugs including barbitals, benzodiazepines, phenothiozines and tricyclic antidepressants in human plasma. Methods: Drugs in plasma were extracted and purified by using X-5 resin solid phase extraction columns, followed by identification and quantitation using capillary GC-FID and GC-MS. Results: More than 20 drugs were simultaneously extracted from human plasma, and effectively separated in GC and TIC spectra. The correlation coefficient of standard curves was larger than 0.99, and relative standard differences (RSD) were less than 10% for most of the drugs. Under neutral extraction conditions, the lowest detection limits of barbitals were in the range of 2 ~ 5 μg/ml, in optimized conditions, they were reduced to 0.3 ~ 0.5 μg/ml. Conclusion: X-5 resin solid-phase extraction is fit for the simultaneous extraction and purification of large number of drugs in plasma, therefore it is satisfactory for rapid determination of overdose drugs clinically, when combined with capillary GC and GC-MS.',\n",
       " 'keywords': ['central nervous drugs',\n",
       "  'GC-FID',\n",
       "  'GC-MS',\n",
       "  'solid-phase extraction',\n",
       "  'X-5 resin'],\n",
       " 'venue': 'Chinese Pharmaceutical Journal',\n",
       " 'year': 1996,\n",
       " 'id': 'P9a1gcvg'}"
      ]
     },
     "execution_count": 93,
     "metadata": {},
     "output_type": "execute_result"
    }
   ],
   "source": [
    "train_pub_dict['P9a1gcvg']"
   ]
  },
  {
   "cell_type": "code",
   "execution_count": 114,
   "metadata": {},
   "outputs": [],
   "source": [
    "example_upload_file_path = './files/name_disambiguation/sna_valid_example_evaluation_scratch.json'\n",
    "with open(example_upload_file_path, 'r') as f:\n",
    "    example_upload_dict = json.load(f)\n",
    "json.dumps(example_upload_dict);"
   ]
  },
  {
   "cell_type": "code",
   "execution_count": 95,
   "metadata": {},
   "outputs": [],
   "source": [
    "sns_valid_pub_file_path = './files/name_disambiguation/sna_valid_pub.json'\n",
    "with open(sns_valid_pub_file_path, 'r') as f:\n",
    "    sns_valid_pub_dict = json.load(f)"
   ]
  },
  {
   "cell_type": "code",
   "execution_count": 96,
   "metadata": {},
   "outputs": [],
   "source": [
    "sns_valid_author_file_path = './files/name_disambiguation/sna_valid_author_raw.json'\n",
    "with open(sns_valid_author_file_path, 'r') as f:\n",
    "    sns_valid_author_dict = json.load(f)"
   ]
  },
  {
   "cell_type": "code",
   "execution_count": 97,
   "metadata": {},
   "outputs": [],
   "source": [
    "def save_json(obj, path, indent=2, ensure_ascii=False, override=True, *args, **kwargs):\n",
    "    \"\"\"Save object as json format\"\"\"\n",
    "    if not override:\n",
    "        if os.path.exists(path):\n",
    "            return\n",
    "    with open(path, \"w\") as f:\n",
    "        json.dump(obj, f, indent=indent, ensure_ascii=ensure_ascii, *args, **kwargs)"
   ]
  },
  {
   "cell_type": "code",
   "execution_count": 113,
   "metadata": {},
   "outputs": [
    {
     "name": "stdout",
     "output_type": "stream",
     "text": [
      "dict_keys(['heng_li', 'fang_chen', 'lin_zhou', 'akio_yamamoto', 'y_luo', 'chun_li', 'shiyi_chen', 'zhigang_chen', 'chun_wang', 'j_yu', 'y_guo', 'g_li', 'jing_huang', 'atsushi_takeda', 'fei_gao', 'rajendra_prasad', 'qi_li', 'bin_ren', 'yong_cao', 'jing_zhou', 'hong_jiang', 'liang_zhou', 'ming_xu', 'jie_sun', 'hao_zhang', 'jue_wang', 'y_shi', 'jian_huang', 'ping_zhang', 'feng_zhou', 'dong_zhang', 'h_yu', 'jian_wu', 'li_huang', 'shiyong_liu', 'ke_xu', 'min_yang', 'lei_wu', 'jie_zhou', 'zhang_lei', 'h_y_wang', 'qing_li', 'd_wang', 'hongsheng_chen', 'kun_li', 'hong_guo', 'gang_chen', 'yuanyuan_zhang', 'lin_ma', 'yao_zhang'])\n",
      "['zszavvJh', 'a2Tl88Xu', 'X3Y0AYBw', '0kUbjIMW', '4bKZMNxE', 'vbQeLjWI', 'ZfSbG5ME', 'ierOTBz1', '6cXZA7zu', 'cXBXYa63']\n"
     ]
    }
   ],
   "source": [
    "print(sns_valid_author_dict.keys())\n",
    "print(sns_valid_author_dict['heng_li'][:10])"
   ]
  },
  {
   "cell_type": "markdown",
   "metadata": {},
   "source": [
    "## Baseline1 \n",
    "\n",
    "完全不做处理，直接认为同名即同一人\n",
    "\n",
    "- score 0.24865\n",
    "- nickname awyd234\n",
    "- rank 23\n",
    "- datetime 2020-05-25 05:24"
   ]
  },
  {
   "cell_type": "code",
   "execution_count": 99,
   "metadata": {},
   "outputs": [],
   "source": [
    "result_dict1 = {}\n",
    "for key, value in sns_valid_author_dict.items():\n",
    "    result_dict1[key] = [value]"
   ]
  },
  {
   "cell_type": "code",
   "execution_count": 100,
   "metadata": {},
   "outputs": [],
   "source": [
    "upload_dir = './files/name_disambiguation/upload'\n",
    "if not os.path.exists(upload_dir):\n",
    "    os.mkdir(upload_dir)"
   ]
  },
  {
   "cell_type": "code",
   "execution_count": 101,
   "metadata": {},
   "outputs": [],
   "source": [
    "save_json(result_dict1, os.path.join(upload_dir, 'baseline1.json'))"
   ]
  },
  {
   "cell_type": "markdown",
   "metadata": {},
   "source": [
    "## Baseline2 尝试中\n",
    "\n",
    "按照同样的组织名进行归类，需要检测作者和pub里的作者是不是同一人，以及对没有结果的进行处理；尝试了很长时间对姓名进行处理归类，成绩还不如直接不分类提交，有点自闭，看来还是得上聚类\n",
    "\n",
    "- score 0.11718\n",
    "- nickname awyd234\n",
    "- rank null\n",
    "- datetime 2020-05-28 13:37"
   ]
  },
  {
   "cell_type": "code",
   "execution_count": 102,
   "metadata": {},
   "outputs": [
    {
     "name": "stdout",
     "output_type": "stream",
     "text": [
      "['heng_li', 'fang_chen', 'lin_zhou', 'akio_yamamoto', 'y_luo', 'chun_li', 'shiyi_chen', 'zhigang_chen', 'chun_wang', 'j_yu', 'y_guo', 'g_li', 'jing_huang', 'atsushi_takeda', 'fei_gao', 'rajendra_prasad', 'qi_li', 'bin_ren', 'yong_cao', 'jing_zhou', 'hong_jiang', 'liang_zhou', 'ming_xu', 'jie_sun', 'hao_zhang', 'jue_wang', 'y_shi', 'jian_huang', 'ping_zhang', 'feng_zhou', 'dong_zhang', 'h_yu', 'jian_wu', 'li_huang', 'shiyong_liu', 'ke_xu', 'min_yang', 'lei_wu', 'jie_zhou', 'zhang_lei', 'h_y_wang', 'qing_li', 'd_wang', 'hongsheng_chen', 'kun_li', 'hong_guo', 'gang_chen', 'yuanyuan_zhang', 'lin_ma', 'yao_zhang']\n"
     ]
    }
   ],
   "source": [
    "all_valid_names_list = list(sns_valid_author_dict.keys())\n",
    "print(all_valid_names_list)"
   ]
  },
  {
   "cell_type": "code",
   "execution_count": 103,
   "metadata": {},
   "outputs": [
    {
     "name": "stdout",
     "output_type": "stream",
     "text": [
      "second name exists chun_chun\n",
      "second name exists y_y\n",
      "second name exists jing_jing\n",
      "second name exists y_y\n",
      "second name exists jian_jian\n",
      "second name exists jie_jie\n",
      "name split greater than 2 h_y_wang\n",
      "second name exists hong_hong\n",
      "second name exists lin_lin\n"
     ]
    }
   ],
   "source": [
    "# 检查验证集中author是否有同名\n",
    "all_names_set = set()\n",
    "for each_name in all_valid_names_list:\n",
    "    name_split = each_name.split('_')\n",
    "    if len(name_split) > 2:\n",
    "        print(\"name split greater than 2\", each_name)\n",
    "        all_names_set.add(each_name)\n",
    "        continue\n",
    "    first, last = name_split\n",
    "    first = first.lower()\n",
    "    last = first.lower()\n",
    "    second_name = '{last}_{first}'.format(**locals())\n",
    "    if each_name not in all_names_set:\n",
    "        all_names_set.add(each_name)\n",
    "    else:\n",
    "        print('first name exists', each_name)\n",
    "    if second_name not in all_names_set:\n",
    "        all_names_set.add(second_name)\n",
    "    else:\n",
    "        print('second name exists', second_name)"
   ]
  },
  {
   "cell_type": "code",
   "execution_count": 104,
   "metadata": {},
   "outputs": [
    {
     "data": {
      "text/plain": [
       "{'id': 'iBgl2DTz',\n",
       " 'title': 'A generalized extended state observer for supercapacitor state of charge estimation under disturbances.',\n",
       " 'abstract': 'In this paper, a generalized extended state observer (GESO) is proposed to accurately observe supercapacitoru0027s state of charge (SOC) by counteracting the modeling deviation and disturbances. With the consideration of dynamic modeling uncertainty and disturbances, a nonlinear mathematical model is established based on the three branch equivalent circuit model for supercapacitor (SC). A GESO is designed to observe SCu0027s internal capacitance voltage and modeling error with the known information from the established mathematical model. With the estimated modeling error information, a compensation control law is designed to eliminate deviation, which results in an accurate internal capacitance voltage observation. An accurate SOC for SC is obtained with the estimated parameters. Experimental results from a synchronous buck circuit based test platform are provided to verify the feasibility and superiority for SOC observation by GESO.',\n",
       " 'keywords': '',\n",
       " 'authors': [{'name': 'Yanhui Zhou',\n",
       "   'org': 'School of Information Science and Engineering, Central South University, Changsha 410075, China'},\n",
       "  {'name': 'Zhiwu Huang',\n",
       "   'org': 'School of Information Science and Engineering, Central South University, Changsha 410075, China'},\n",
       "  {'name': 'Jun Peng',\n",
       "   'org': 'School of Information Science and Engineering, Central South University, Changsha 410075, China'},\n",
       "  {'name': 'Heng Li', 'org': ''},\n",
       "  {'name': 'Hongtao Liao',\n",
       "   'org': 'School of Information Science and Engineering, Central South University, Changsha 410075, China'}],\n",
       " 'venue': 'ACC',\n",
       " 'year': 2017}"
      ]
     },
     "execution_count": 104,
     "metadata": {},
     "output_type": "execute_result"
    }
   ],
   "source": [
    "sns_valid_pub_dict['iBgl2DTz']"
   ]
  },
  {
   "cell_type": "code",
   "execution_count": 105,
   "metadata": {},
   "outputs": [],
   "source": [
    "def check_if_same_person(name_a, name_b):\n",
    "    name_b = name_b.replace('.', ' ').replace('\\xa0', ' ').replace('-', '')\n",
    "    name_a_split = name_a.split('_')\n",
    "    name_b_split = [_ for _ in name_b.split(' ') if _.strip() != '']\n",
    "    name_b_lower_list = [_.lower() for _ in name_b_split]\n",
    "    if name_a == name_b:\n",
    "        return True\n",
    "    if '_'.join(name_b_lower_list) == name_a or '_'.join(list(reversed(name_b_lower_list))) == name_a:\n",
    "        return True\n",
    "    if len(name_a_split) != 0 and len(name_b_lower_list) != 0:\n",
    "        if name_a_split[-1] == name_b_lower_list[-1]:\n",
    "            return True\n",
    "#     print(name_a, '_'.join(name_b_lower_list), '_'.join(list(reversed(name_b_lower_list))))\n",
    "    return False"
   ]
  },
  {
   "cell_type": "code",
   "execution_count": 106,
   "metadata": {},
   "outputs": [
    {
     "name": "stdout",
     "output_type": "stream",
     "text": [
      "v8MQ189W heng_li ['Jing YH', 'Yang XY', 'Zhao CR', 'Li H', 'Guo MF', 'Wang Q', 'Wang Q']\n",
      "47dPthKZ heng_li ['Gao Lei', 'l H']\n",
      "EibaQ9x1 heng_li ['LI Hong-bin', 'ZHOU You-qiang', 'LI H']\n",
      "PnYTYzt6 heng_li ['ZHANG Bofeng', 'ZHANG Yingze', 'QI Xiangbei', 'LI H']\n",
      "XpeXTCJI heng_li ['Gao Lei', 'l H']\n",
      "hPphSy2I zhigang_chen ['hua huang', 'dc feng', 'gy luo', 'zg cheng', 'lr lei', 'youdi liao', 'yj zhang', 'am yu', 'j tan', 'zb yang', 'x jin', 'fb meng']\n",
      "vQgXWHC1 yong_cao ['Kafafy R.', 'Cao Y.']\n",
      "vS23uZbV yong_cao ['', '', '', '']\n",
      "g0bizfjw yong_cao ['Yu D.', 'Liu H.', 'Cao Y.', 'Fu H.']\n",
      "MJ8zE8I7 hong_jiang ['Qian XH', 'Tang ZY', 'Ye XL', 'Bi LY', 'Wu T', 'Jiang H', 'Shi Q']\n",
      "xggdEb32 hong_jiang ['', '']\n",
      "hIMn9QHK hong_jiang ['', '']\n",
      "0OVUOlLX hao_zhang ['', '', '', '', '', '']\n",
      "Co5aMeOa hao_zhang ['', '']\n",
      "uIJ0iovn hao_zhang ['Changqing Zou', 'Haoran Mo', 'Ruofei Du', 'Xing Wu', 'Chengying Gao', 'Hongbo Fu']\n",
      "2ZZ5oS74 hao_zhang ['', '', '', '']\n",
      "mEIocqZe feng_zhou ['ZHOU F', 'HU Yang', 'SUN Zhi-gang']\n",
      "BIQpIY7H qing_li ['李庆 li qing', '吴蕾 wu lei', '杨刚 yang gang', '匡健康 kuan jiankang', '封传红 feng chuanhong', '罗怀海 luo huaihai', '杨群芳 yang quanfang', '蒋春先 jang chunxian', '王海建 wang haijian']\n",
      "UjA36r2V hong_guo ['Zhou, Chenyi', 'Chen, Xiaobin', 'Guo, Hong']\n",
      "pZZCpF5t gang_chen ['TU Zong-cai', 'SHA Xiao-mei', 'WANG Hui', 'ZHANG Xue-chun', 'CHEN G']\n",
      "IzuEYdAU gang_chen ['', '', '']\n",
      "e4niKHRX gang_chen ['', '', '', '']\n",
      "Ef6NjiZv gang_chen ['TU Zong-cai', 'WANG Hui', 'LIU Guang-xian', 'CHEN G', 'DOU Yu-xin', 'ZHANG Xue-chun']\n",
      "{'0': 23, '1': 0}\n"
     ]
    }
   ],
   "source": [
    "import random\n",
    "\n",
    "result_dict2 = {}\n",
    "this_count = {\n",
    "    '0': 0,\n",
    "    '1': 0\n",
    "}\n",
    "for key, value in sns_valid_author_dict.items():\n",
    "    org_result_dict = {}\n",
    "    for each_pub_id in value:\n",
    "        pub_info_dict = sns_valid_pub_dict[each_pub_id]\n",
    "        authors_list = pub_info_dict['authors']\n",
    "        flag = False\n",
    "        for each_author_info in authors_list:\n",
    "            if check_if_same_person(key, each_author_info['name']):\n",
    "                flag = True\n",
    "                org_name = each_author_info.get('org')\n",
    "                if org_result_dict.get(org_name) is None:\n",
    "                    org_result_dict[org_name] = []\n",
    "                org_result_dict[org_name].append(each_pub_id)\n",
    "                break\n",
    "        if not flag:\n",
    "            this_count['0'] += 1\n",
    "            print(each_pub_id, key, [_['name'] for _ in authors_list])\n",
    "            if len(org_result_dict) == 0:\n",
    "                org_result_dict[org_name] = [each_pub_id]\n",
    "            else:\n",
    "                org_result_dict[random.choice(list(org_result_dict.keys()))].append(each_pub_id)\n",
    "    result_dict2[key] = list(org_result_dict.values())\n",
    "print(this_count)"
   ]
  },
  {
   "cell_type": "code",
   "execution_count": 107,
   "metadata": {},
   "outputs": [],
   "source": [
    "save_json(result_dict2, os.path.join(upload_dir, 'baseline2.json'))"
   ]
  },
  {
   "cell_type": "code",
   "execution_count": 108,
   "metadata": {},
   "outputs": [
    {
     "name": "stdout",
     "output_type": "stream",
     "text": [
      "45898\n"
     ]
    }
   ],
   "source": [
    "count = 0\n",
    "for k, v in result_dict2.items():\n",
    "    count += sum([len(_) for _ in v])\n",
    "print(count)"
   ]
  },
  {
   "cell_type": "code",
   "execution_count": 109,
   "metadata": {
    "scrolled": true
   },
   "outputs": [
    {
     "data": {
      "text/plain": [
       "{'id': 'zOyScSRD',\n",
       " 'title': 'Recurrent intracranial hemangiopericytoma with multiple metastases.',\n",
       " 'abstract': 'null',\n",
       " 'keywords': ['neoplasm metastasis', 'hemangiopericytoma'],\n",
       " 'authors': [{'name': 'cao', 'org': ''},\n",
       "  {'name': 'yong', 'org': ''},\n",
       "  {'name': 'zhang', 'org': ''},\n",
       "  {'name': 'maozhi', 'org': ''},\n",
       "  {'name': 'wang', 'org': ''},\n",
       "  {'name': 'junmei', 'org': ''},\n",
       "  {'name': 'wei', 'org': ''},\n",
       "  {'name': 'li', 'org': ''},\n",
       "  {'name': 'guang', 'org': ''},\n",
       "  {'name': 'zhao', 'org': ''},\n",
       "  {'name': 'jizong', 'org': ''}],\n",
       " 'venue': 'Chinese medical journal',\n",
       " 'year': 2006}"
      ]
     },
     "execution_count": 109,
     "metadata": {},
     "output_type": "execute_result"
    }
   ],
   "source": [
    "sns_valid_pub_dict['zOyScSRD']"
   ]
  },
  {
   "cell_type": "code",
   "execution_count": null,
   "metadata": {},
   "outputs": [],
   "source": []
  }
 ],
 "metadata": {
  "kernelspec": {
   "display_name": "Python 3",
   "language": "python",
   "name": "python3"
  },
  "language_info": {
   "codemirror_mode": {
    "name": "ipython",
    "version": 3
   },
   "file_extension": ".py",
   "mimetype": "text/x-python",
   "name": "python",
   "nbconvert_exporter": "python",
   "pygments_lexer": "ipython3",
   "version": "3.7.3"
  }
 },
 "nbformat": 4,
 "nbformat_minor": 2
}
