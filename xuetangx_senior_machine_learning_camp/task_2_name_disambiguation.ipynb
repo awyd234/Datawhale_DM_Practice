{
 "cells": [
  {
   "cell_type": "code",
   "execution_count": 1,
   "metadata": {},
   "outputs": [],
   "source": [
    "import os\n",
    "import json"
   ]
  },
  {
   "cell_type": "markdown",
   "metadata": {},
   "source": [
    "## 数据集读取"
   ]
  },
  {
   "cell_type": "code",
   "execution_count": 2,
   "metadata": {},
   "outputs": [],
   "source": [
    "train_author_file_path = './files/name_disambiguation/train_author.json'\n",
    "train_pub_file_path = './files/name_disambiguation/train_pub.json'\n",
    "\n",
    "with open(train_author_file_path) as f:\n",
    "    train_author_dict = json.load(f)\n",
    "    \n",
    "with open(train_pub_file_path) as f:\n",
    "    train_pub_dict = json.load(f)"
   ]
  },
  {
   "cell_type": "code",
   "execution_count": 6,
   "metadata": {},
   "outputs": [
    {
     "data": {
      "text/plain": [
       "['P9a1gcvg']"
      ]
     },
     "execution_count": 6,
     "metadata": {},
     "output_type": "execute_result"
    }
   ],
   "source": [
    "train_author_dict['li_guo']['EShnTfSe']"
   ]
  },
  {
   "cell_type": "code",
   "execution_count": 9,
   "metadata": {},
   "outputs": [
    {
     "data": {
      "text/plain": [
       "{'authors': [{'name': 'Fenghe Qiu',\n",
       "   'org': 'Institute of Pharmacology and Toxicology'},\n",
       "  {'name': 'Li Liu', 'org': 'Institute of Pharmacology and Toxicology'},\n",
       "  {'name': 'Li Guo', 'org': 'Institute of Pharmacology and Toxicology'}],\n",
       " 'title': 'Rapid determination of central nervous drugs in plasma by solid-phase extraction and GC-FID and GC-MS',\n",
       " 'abstract': 'Objective: To establish a simultaneous determination method of central nervous drugs including barbitals, benzodiazepines, phenothiozines and tricyclic antidepressants in human plasma. Methods: Drugs in plasma were extracted and purified by using X-5 resin solid phase extraction columns, followed by identification and quantitation using capillary GC-FID and GC-MS. Results: More than 20 drugs were simultaneously extracted from human plasma, and effectively separated in GC and TIC spectra. The correlation coefficient of standard curves was larger than 0.99, and relative standard differences (RSD) were less than 10% for most of the drugs. Under neutral extraction conditions, the lowest detection limits of barbitals were in the range of 2 ~ 5 μg/ml, in optimized conditions, they were reduced to 0.3 ~ 0.5 μg/ml. Conclusion: X-5 resin solid-phase extraction is fit for the simultaneous extraction and purification of large number of drugs in plasma, therefore it is satisfactory for rapid determination of overdose drugs clinically, when combined with capillary GC and GC-MS.',\n",
       " 'keywords': ['central nervous drugs',\n",
       "  'GC-FID',\n",
       "  'GC-MS',\n",
       "  'solid-phase extraction',\n",
       "  'X-5 resin'],\n",
       " 'venue': 'Chinese Pharmaceutical Journal',\n",
       " 'year': 1996,\n",
       " 'id': 'P9a1gcvg'}"
      ]
     },
     "execution_count": 9,
     "metadata": {},
     "output_type": "execute_result"
    }
   ],
   "source": [
    "train_pub_dict['P9a1gcvg']"
   ]
  },
  {
   "cell_type": "code",
   "execution_count": 11,
   "metadata": {},
   "outputs": [],
   "source": [
    "example_upload_file_path = './files/name_disambiguation/sna_valid_example_evaluation_scratch.json'\n",
    "with open(example_upload_file_path, 'r') as f:\n",
    "    example_upload_dict = json.load(f)\n",
    "json.dumps(example_upload_dict)"
   ]
  },
  {
   "cell_type": "code",
   "execution_count": 18,
   "metadata": {},
   "outputs": [],
   "source": [
    "sns_valid_pub_file_path = './files/name_disambiguation/sna_valid_pub.json'\n",
    "with open(sns_valid_pub_file_path, 'r') as f:\n",
    "    sns_valid_pub_dict = json.load(f)"
   ]
  },
  {
   "cell_type": "code",
   "execution_count": 19,
   "metadata": {},
   "outputs": [],
   "source": [
    "sns_valid_author_file_path = './files/name_disambiguation/sna_valid_author_raw.json'\n",
    "with open(sns_valid_author_file_path, 'r') as f:\n",
    "    sns_valid_author_dict = json.load(f)"
   ]
  },
  {
   "cell_type": "code",
   "execution_count": 22,
   "metadata": {},
   "outputs": [],
   "source": [
    "def save_json(obj, path, indent=2, ensure_ascii=False, override=True, *args, **kwargs):\n",
    "    \"\"\"Save object as json format\"\"\"\n",
    "    if not override:\n",
    "        if os.path.exists(path):\n",
    "            return\n",
    "    with open(path, \"w\") as f:\n",
    "        json.dump(obj, f, indent=indent, ensure_ascii=ensure_ascii, *args, **kwargs)"
   ]
  },
  {
   "cell_type": "code",
   "execution_count": 24,
   "metadata": {},
   "outputs": [
    {
     "data": {
      "text/plain": [
       "dict_keys(['heng_li', 'fang_chen', 'lin_zhou', 'akio_yamamoto', 'y_luo', 'chun_li', 'shiyi_chen', 'zhigang_chen', 'chun_wang', 'j_yu', 'y_guo', 'g_li', 'jing_huang', 'atsushi_takeda', 'fei_gao', 'rajendra_prasad', 'qi_li', 'bin_ren', 'yong_cao', 'jing_zhou', 'hong_jiang', 'liang_zhou', 'ming_xu', 'jie_sun', 'hao_zhang', 'jue_wang', 'y_shi', 'jian_huang', 'ping_zhang', 'feng_zhou', 'dong_zhang', 'h_yu', 'jian_wu', 'li_huang', 'shiyong_liu', 'ke_xu', 'min_yang', 'lei_wu', 'jie_zhou', 'zhang_lei', 'h_y_wang', 'qing_li', 'd_wang', 'hongsheng_chen', 'kun_li', 'hong_guo', 'gang_chen', 'yuanyuan_zhang', 'lin_ma', 'yao_zhang'])"
      ]
     },
     "execution_count": 24,
     "metadata": {},
     "output_type": "execute_result"
    }
   ],
   "source": [
    "print(sns_valid_author_dict.keys())"
   ]
  },
  {
   "cell_type": "markdown",
   "metadata": {},
   "source": [
    "## Baseline1 完全不做处理，直接认为同名即同一人\n",
    "\n",
    "- score 0.24865\n",
    "- nickname awyd234\n",
    "- rank 23\n",
    "- datetime 2020-05-25 05:24"
   ]
  },
  {
   "cell_type": "code",
   "execution_count": 21,
   "metadata": {},
   "outputs": [],
   "source": [
    "result_dict1 = {}\n",
    "for key, value in sns_valid_author_dict.items():\n",
    "    result_dict1[key] = [value]"
   ]
  },
  {
   "cell_type": "code",
   "execution_count": 23,
   "metadata": {},
   "outputs": [],
   "source": [
    "upload_dir = './files/name_disambiguation/upload'\n",
    "if not os.path.exists(upload_dir):\n",
    "    os.mkdir(upload_dir)\n",
    "save_json(result_dict1, os.path.join(upload_dir, 'baseline1.json'))"
   ]
  },
  {
   "cell_type": "code",
   "execution_count": null,
   "metadata": {},
   "outputs": [],
   "source": []
  }
 ],
 "metadata": {
  "kernelspec": {
   "display_name": "Python 3",
   "language": "python",
   "name": "python3"
  },
  "language_info": {
   "codemirror_mode": {
    "name": "ipython",
    "version": 3
   },
   "file_extension": ".py",
   "mimetype": "text/x-python",
   "name": "python",
   "nbconvert_exporter": "python",
   "pygments_lexer": "ipython3",
   "version": "3.7.3"
  }
 },
 "nbformat": 4,
 "nbformat_minor": 2
}
